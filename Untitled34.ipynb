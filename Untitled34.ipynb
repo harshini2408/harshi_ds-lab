{
  "nbformat": 4,
  "nbformat_minor": 0,
  "metadata": {
    "colab": {
      "provenance": [],
      "collapsed_sections": []
    },
    "kernelspec": {
      "name": "python3",
      "display_name": "Python 3"
    },
    "language_info": {
      "name": "python"
    }
  },
  "cells": [
    {
      "cell_type": "code",
      "execution_count": 6,
      "metadata": {
        "colab": {
          "base_uri": "https://localhost:8080/"
        },
        "id": "RK9hAqvXfhCI",
        "outputId": "cd07cd33-fdf4-4aab-ec5f-6dd1bb908ab7"
      },
      "outputs": [
        {
          "output_type": "stream",
          "name": "stdout",
          "text": [
            "enter a number:10\n",
            "element found\n"
          ]
        }
      ],
      "source": [
        "myList=[10,35,42,51,62]\n",
        "pivot=int(input(\"enter a number:\"))\n",
        "\n",
        "\n",
        "for i in myList:\n",
        "  if pivot==i:\n",
        "    flag=1\n",
        "    break\n",
        "  else:\n",
        "    flag=0\n",
        "\n",
        "if flag==1:\n",
        "    print(\"element found\")\n",
        "else:\n",
        "    print(\"element not found\")\n"
      ]
    },
    {
      "cell_type": "markdown",
      "source": [
        "enter n:5\n",
        "enter values:10 35 42 51 62\n",
        "enter elements to search:16\n",
        "result:not found"
      ],
      "metadata": {
        "id": "7UMkDoggEnK-"
      }
    }
  ]
}