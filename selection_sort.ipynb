{
  "nbformat": 4,
  "nbformat_minor": 0,
  "metadata": {
    "colab": {
      "provenance": []
    },
    "kernelspec": {
      "name": "python3",
      "display_name": "Python 3"
    },
    "language_info": {
      "name": "python"
    }
  },
  "cells": [
    {
      "cell_type": "code",
      "execution_count": null,
      "metadata": {
        "colab": {
          "base_uri": "https://localhost:8080/"
        },
        "id": "EOeU13-Ip1Pw",
        "outputId": "8df8b8cb-2a84-4ae0-f4c6-118756e96f4f"
      },
      "outputs": [
        {
          "output_type": "stream",
          "name": "stdout",
          "text": [
            "[2, 3, 8, 6, 7, 5]\n",
            "[2, 3, 8, 6, 7, 5]\n",
            "[2, 3, 5, 6, 7, 8]\n",
            "[2, 3, 5, 6, 7, 8]\n",
            "[2, 3, 5, 6, 7, 8]\n",
            "[2, 3, 5, 6, 7, 8]\n"
          ]
        }
      ],
      "source": [
        "def sort(nums):\n",
        "  for i in range(5):\n",
        "    minpos=i\n",
        "    for j in range(i,6):\n",
        "      if nums[j]<nums[minpos]:\n",
        "        minpos=j\n",
        "    temp=nums[i]\n",
        "    nums[i]=nums[minpos]\n",
        "    nums[minpos]=temp\n",
        "\n",
        "    \n",
        "    print(nums)\n",
        "nums=[5,3,8,6,7,2]\n",
        "sort(nums)\n",
        "\n",
        "print(nums)"
      ]
    },
    {
      "cell_type": "code",
      "source": [],
      "metadata": {
        "id": "pAJKgM9DVT-F"
      },
      "execution_count": null,
      "outputs": []
    }
  ]
}