{
  "nbformat": 4,
  "nbformat_minor": 0,
  "metadata": {
    "colab": {
      "provenance": []
    },
    "kernelspec": {
      "name": "python3",
      "display_name": "Python 3"
    },
    "language_info": {
      "name": "python"
    }
  },
  "cells": [
    {
      "cell_type": "code",
      "execution_count": 24,
      "metadata": {
        "id": "AWaMw2nH-kW8",
        "colab": {
          "base_uri": "https://localhost:8080/"
        },
        "outputId": "e22159a9-ca85-4e85-cc76-a6ccf32853ee"
      },
      "outputs": [
        {
          "output_type": "stream",
          "name": "stdout",
          "text": [
            "Element is present at index 1\n"
          ]
        }
      ],
      "source": [
        "\n",
        "\n",
        "def binarySearch(array, x, low, high):\n",
        "\n",
        "\n",
        "    while low <= high:\n",
        "\n",
        "        mid = low + (high - low)//2\n",
        "\n",
        "        if array[mid] == x:\n",
        "            return mid\n",
        "\n",
        "        elif array[mid] < x:\n",
        "            low = mid + 1\n",
        "\n",
        "        else:\n",
        "            high = mid - 1\n",
        "\n",
        "    return -1\n",
        "\n",
        "\n",
        "array = [21,49,56,24,26,55]\n",
        "x = 49\n",
        "\n",
        "result = binarySearch(array, x, 0, len(array)-1)\n",
        "\n",
        "if result != -1:\n",
        "    print(\"Element is present at index \" + str(result))\n",
        "else:\n",
        "    print(\"Not found\")"
      ]
    },
    {
      "cell_type": "code",
      "source": [],
      "metadata": {
        "id": "-wmOBjfrJ4mp"
      },
      "execution_count": null,
      "outputs": []
    }
  ]
}